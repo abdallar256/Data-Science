{
  "nbformat": 4,
  "nbformat_minor": 0,
  "metadata": {
    "colab": {
      "provenance": [],
      "authorship_tag": "ABX9TyPWVXRDv+CpQGJaXTRaQwM2",
      "include_colab_link": true
    },
    "kernelspec": {
      "name": "python3",
      "display_name": "Python 3"
    },
    "language_info": {
      "name": "python"
    }
  },
  "cells": [
    {
      "cell_type": "markdown",
      "metadata": {
        "id": "view-in-github",
        "colab_type": "text"
      },
      "source": [
        "<a href=\"https://colab.research.google.com/github/abdallar256/Data-Science/blob/main/Assignments.ipynb\" target=\"_parent\"><img src=\"https://colab.research.google.com/assets/colab-badge.svg\" alt=\"Open In Colab\"/></a>"
      ]
    },
    {
      "cell_type": "code",
      "execution_count": null,
      "metadata": {
        "colab": {
          "base_uri": "https://localhost:8080/"
        },
        "id": "UEcMfYQGecwS",
        "outputId": "9a44a52f-1f0d-4aef-9bd8-7e6a327ae3b7"
      },
      "outputs": [
        {
          "output_type": "stream",
          "name": "stdout",
          "text": [
            "Enter the radius of the circle:4.5\n",
            "the area of the circle whose radius is 4.5 meters is 63.585 squaremeters\n",
            "the circumference of the circle whose radius is 4.5 meters is 28.26 meters\n"
          ]
        }
      ],
      "source": [
        "#Task 1\n",
        "#1. Write a program that prompts a user to enter the radius of a circle, calculates the area and circumference, and then prints both results in a user-friendly format.\n",
        "# Prompt user to enter the radius\n",
        "radius_input = input(\"Enter the radius of the circle:\")\n",
        "radius = float(radius_input)\n",
        "# Calculate area and circumference\n",
        "area = 3.14 * radius ** 2\n",
        "circumference = 2 * 3.14 * radius\n",
        " # Print the results\n",
        "print(f\"the area of the circle whose radius is {radius} meters is {area} squaremeters\")\n",
        "print(f\"the circumference of the circle whose radius is {radius} meters is {circumference} meters\")"
      ]
    },
    {
      "cell_type": "code",
      "source": [
        "#2. Create a program that asks a user for their first name and last name. Then, create a new variable called full_name by combining the first and last names in uppercase with a space in between. Finally, print a message that says: \"Hello, [Full Name]! Your name has [Number] characters.\"\n",
        "# Ask the user for their first and last name\n",
        "first_name = input(\"Enter your first name: \")\n",
        "last_name = input(\"Enter your last name: \")\n",
        "# Combine first and last name in uppercase\n",
        "full_name = first_name.upper() + \" \" + last_name.upper()\n",
        "# Count the number of characters\n",
        "name_length = len(first_name + last_name)\n",
        "print(f\"Hello, {full_name}! your name has {name_length} characters\")"
      ],
      "metadata": {
        "colab": {
          "base_uri": "https://localhost:8080/"
        },
        "id": "XjFTAglcfOD3",
        "outputId": "ceb4e998-6e94-4b8f-9b9b-2d61d3eacf62"
      },
      "execution_count": null,
      "outputs": [
        {
          "output_type": "stream",
          "name": "stdout",
          "text": [
            "Enter your first name: Abdallar\n",
            "Enter your last name: Gulemye\n",
            "Hello, ABDALLAR GULEMYE! your name has 15 characters\n"
          ]
        }
      ]
    },
    {
      "cell_type": "code",
      "source": [
        "#3. Create a program that asks a user for their name and age. Then, calculate the year they were born and print a message like: \"Hi [Name], you are [Age] years old, so you were born in [Year].\"\n",
        "# Ask the user for their name and age\n",
        "name = input(\"Enter your name: \")\n",
        "age_input = input(\"Enter your age: \")\n",
        "# Convert age to integer\n",
        "age = int(age_input)\n",
        "# Calculate the birth year\n",
        "birth_year = 2025 - age\n",
        "print(f\"Hi {name}, you are {age} years old, so you were born in {birth_year}.\")\n",
        "\n"
      ],
      "metadata": {
        "colab": {
          "base_uri": "https://localhost:8080/"
        },
        "id": "KlDuVUOgfZzt",
        "outputId": "c205c4d8-2731-4100-d4ae-ea1793d4afc3"
      },
      "execution_count": null,
      "outputs": [
        {
          "output_type": "stream",
          "name": "stdout",
          "text": [
            "Enter your name: Abdallar Gulemye\n",
            "Enter your age: 25\n",
            "Hi Abdallar Gulemye, you are 25 years old, so you were born in 2000.\n"
          ]
        }
      ]
    },
    {
      "cell_type": "code",
      "source": [
        "#Task 2(Data Structures)\n",
        "#1. Create a list of your top 5 favorite movies. Then, replace the movie at index 2 with a new one. Finally, sort the list in alphabetical order and print the result.\n",
        "# Step 1: Create a list of top 5 favorite movies\n",
        "favorite_movies = [\"Avengers\", \"Hit man\", \"Lost in the dark\", \"Falcon\", \"The Dark Knight\"]\n",
        "\n",
        "# Step 2: Replace the movie at index 2\n",
        "favorite_movies[2] = \"Reddick\"\n",
        "\n",
        "# Step 3: Sort the list in alphabetical order\n",
        "favorite_movies.sort()\n",
        "print(favorite_movies)"
      ],
      "metadata": {
        "colab": {
          "base_uri": "https://localhost:8080/"
        },
        "id": "T1w-DF8jfmr7",
        "outputId": "83a21059-9fc3-476e-f476-f5edc7b041cc"
      },
      "execution_count": null,
      "outputs": [
        {
          "output_type": "stream",
          "name": "stdout",
          "text": [
            "['Avengers', 'Falcon', 'Hit man', 'Reddick', 'The Dark Knight']\n"
          ]
        }
      ]
    },
    {
      "cell_type": "code",
      "source": [
        "#2. Given a list of numbers, [5, 15, 25, 35, 45], insert the number 20 at the correct position to maintain the sorted order. Then, remove the last item and print the modified list.\n",
        "# Original list of numbers\n",
        "numbers = [5, 15, 25, 35, 45]\n",
        "\n",
        "# Step 1: Insert 20 to maintain sorted order\n",
        "numbers.insert(2,20)\n",
        "# Step 2: Remove the last item\n",
        "numbers.remove(45)\n",
        "print(numbers)"
      ],
      "metadata": {
        "colab": {
          "base_uri": "https://localhost:8080/"
        },
        "id": "Y9d8bFBLfzeu",
        "outputId": "435ae79f-1267-4932-9950-a00393947323"
      },
      "execution_count": null,
      "outputs": [
        {
          "output_type": "stream",
          "name": "stdout",
          "text": [
            "[5, 15, 20, 25, 35]\n"
          ]
        }
      ]
    },
    {
      "cell_type": "code",
      "source": [
        "#3. You have a tuple ('pen', 'pencil', 'eraser'). Your friend wants to borrow the 'pencil' and you want to add a 'ruler' to your collection. Since tuples are immutable, how can you achieve this by creating a new tuple?\n",
        "# Original tuple\n",
        "stationery = ('pen', 'pencil', 'eraser')\n",
        "\n",
        "# Convert to list to modify\n",
        "stationery_list = list(stationery)\n",
        "\n",
        "# Remove 'pencil'\n",
        "stationery_list.remove('pencil')\n",
        "\n",
        "# Add 'ruler'\n",
        "stationery_list.append('ruler')\n",
        "\n",
        "# Convert back to tuple\n",
        "updated_stationery = tuple(stationery_list)\n",
        "print(updated_stationery)"
      ],
      "metadata": {
        "colab": {
          "base_uri": "https://localhost:8080/"
        },
        "id": "21ZfXMMTf6Iv",
        "outputId": "477b6b01-ec77-492d-8842-973b90104d04"
      },
      "execution_count": null,
      "outputs": [
        {
          "output_type": "stream",
          "name": "stdout",
          "text": [
            "('pen', 'eraser', 'ruler')\n"
          ]
        }
      ]
    },
    {
      "cell_type": "code",
      "source": [
        "#4. You are given a tuple of student scores: (85, 92, 78, 85, 90, 85). First, find out how many times the score 85 appears. Then, find the index of the first occurrence of the score 92.\n",
        "# Tuple of student scores\n",
        "scores = (85, 92, 78, 85, 90, 85)\n",
        "\n",
        "# Count how many times 85 appears\n",
        "count_85 = scores.count(85)\n",
        "\n",
        "# Find the index of the first occurrence of 92\n",
        "index_92 = scores.index(92)\n",
        "\n",
        "# Print the results\n",
        "print(f\"The score 85 appears {count_85} times.\")\n",
        "print(f\"The first occurrence of score 92 is at index {index_92}.\")"
      ],
      "metadata": {
        "colab": {
          "base_uri": "https://localhost:8080/"
        },
        "id": "QtVzfdy7gB0R",
        "outputId": "b8220fdd-8dcb-4c02-aef2-9aaf6efcf0d7"
      },
      "execution_count": null,
      "outputs": [
        {
          "output_type": "stream",
          "name": "stdout",
          "text": [
            "The score 85 appears 3 times.\n",
            "The first occurrence of score 92 is at index 1.\n"
          ]
        }
      ]
    },
    {
      "cell_type": "code",
      "source": [
        "#5. Create a set of your favorite hobbies. Add a new hobby to the set. Then, create another set with a friend's hobbies. Find the hobbies that you both have in common and the hobbies that are unique to each of you.\n",
        "# Step 1: Create a set of your favorite hobbies\n",
        "my_hobbies = {\"reading\", \"cycling\", \"coding\", \"painting\"}\n",
        "\n",
        "# Step 2: Add a new hobby\n",
        "my_hobbies.add(\"football\")\n",
        "\n",
        "# Step 3: Create a set of your friend's hobbies\n",
        "friend_hobbies = {\"gaming\", \"coding\", \"football\", \"traveling\"}\n",
        "\n",
        "# Step 4: Find common hobbies\n",
        "common_hobbies = my_hobbies.intersection(friend_hobbies)\n",
        "\n",
        "# Step 5: Find hobbies unique to each person\n",
        "my_unique_hobbies = my_hobbies.difference(friend_hobbies)\n",
        "friend_unique_hobbies = friend_hobbies.difference(my_hobbies)\n",
        "print(\"My hobbies:\", my_hobbies)\n",
        "print(\"Friend's hobbies:\", friend_hobbies)\n",
        "print(\"Common hobbies:\", common_hobbies)\n",
        "print(\"My unique hobbies:\", my_unique_hobbies)\n",
        "print(\"Friend's unique hobbies:\", friend_unique_hobbies)"
      ],
      "metadata": {
        "colab": {
          "base_uri": "https://localhost:8080/"
        },
        "id": "y1uaMZLEgP_p",
        "outputId": "d8291e1c-7f8d-4ddb-aba0-cccf52b050a1"
      },
      "execution_count": null,
      "outputs": [
        {
          "output_type": "stream",
          "name": "stdout",
          "text": [
            "My hobbies: {'football', 'reading', 'cycling', 'coding', 'painting'}\n",
            "Friend's hobbies: {'gaming', 'traveling', 'football', 'coding'}\n",
            "Common hobbies: {'coding', 'football'}\n",
            "My unique hobbies: {'reading', 'painting', 'cycling'}\n",
            "Friend's unique hobbies: {'gaming', 'traveling'}\n"
          ]
        }
      ]
    },
    {
      "cell_type": "code",
      "source": [
        "#6. You have a set of numbers A = {1, 2, 3, 4, 5} and another set B = {4, 5, 6, 7, 8}. Find the union of both sets (all unique numbers from both sets) and the difference between set A and set B (numbers present in A but not in B).\n",
        "# Define the sets\n",
        "A = {1, 2, 3, 4, 5}\n",
        "B = {4, 5, 6, 7, 8}\n",
        "\n",
        "# Find the union of A and B\n",
        "union_set = A.union(B)\n",
        "\n",
        "# Find the difference between A and B\n",
        "difference_set = A.difference(B)\n",
        "\n",
        "# Print the results\n",
        "print(\"Union of A and B:\", union_set)\n",
        "print(\"Difference (A - B):\", difference_set)"
      ],
      "metadata": {
        "colab": {
          "base_uri": "https://localhost:8080/"
        },
        "id": "xePwhkKjgVW3",
        "outputId": "4d211890-7a6f-4345-bf2c-9aea6cae9233"
      },
      "execution_count": null,
      "outputs": [
        {
          "output_type": "stream",
          "name": "stdout",
          "text": [
            "Union of A and B: {1, 2, 3, 4, 5, 6, 7, 8}\n",
            "Difference (A - B): {1, 2, 3}\n"
          ]
        }
      ]
    },
    {
      "cell_type": "code",
      "source": [
        "#7. Create a dictionary representing a car with keys 'brand', 'model', and 'year'. Then, add a new key-value pair for 'color'. Finally, update the 'year' to a newer year and remove the 'model' key.\n",
        "# Step 1: Create a dictionary representing a car\n",
        "car = { \"brand\": \"Toyota\",\n",
        "       \"model\": \"Corolla\",\n",
        "        \"year\": 2015 }\n",
        "\n",
        "# Step 2: Add a new key-value pair for 'color'\n",
        "car[\"color\"] = \"red\"\n",
        "\n",
        "# Step 3: Update the 'year' to a newer year\n",
        "car[\"year\"] = 2025\n",
        "\n",
        "# Step 4: Remove the 'model' key\n",
        "car.pop(\"model\")\n",
        "\n",
        "# Print the final dictionary\n",
        "print(\"Updated car dictionary:\", car)\n"
      ],
      "metadata": {
        "colab": {
          "base_uri": "https://localhost:8080/"
        },
        "id": "d3C1dqlNgbFQ",
        "outputId": "416571bc-e03f-43aa-b66f-04433576c702"
      },
      "execution_count": null,
      "outputs": [
        {
          "output_type": "stream",
          "name": "stdout",
          "text": [
            "Updated car dictionary: {'brand': 'Toyota', 'year': 2025, 'color': 'red'}\n"
          ]
        }
      ]
    },
    {
      "cell_type": "code",
      "source": [
        "#8. You have a dictionary of product prices: {'apple': 0.50, 'banana': 0.25, 'orange': 0.60}. You want to increase the price of 'apple' by 10% and add a new product 'mango' with a price of 1.25.\n",
        "# Define the original dictionary of product prices\n",
        "product_prices = {\n",
        "    'apple': 0.50,\n",
        "    'banana': 0.25,\n",
        "    'orange': 0.60\n",
        "}\n",
        "\n",
        "# Increase the price of 'apple' by 10%\n",
        "product_prices['apple'] = product_prices['apple'] * 1.10\n",
        "\n",
        "# Add a new product 'mango' with a price of 1.25\n",
        "product_prices['mango'] = 1.25\n",
        "\n",
        "# Print the updated dictionary\n",
        "print(\"Updated product prices:\")\n",
        "print(product_prices)"
      ],
      "metadata": {
        "id": "aPVz9kSCgv6P",
        "colab": {
          "base_uri": "https://localhost:8080/"
        },
        "outputId": "fbb4eee7-d17b-4fd5-b174-a3896bf06912"
      },
      "execution_count": 1,
      "outputs": [
        {
          "output_type": "stream",
          "name": "stdout",
          "text": [
            "Updated product prices:\n",
            "{'apple': 0.55, 'banana': 0.25, 'orange': 0.6, 'mango': 1.25}\n"
          ]
        }
      ]
    },
    {
      "cell_type": "code",
      "source": [
        "#Task 3(Conditions)\n",
        "#1. Write a program that asks the user for their age and then prints whether they are a minor (under 18), an adult (18-64), or a senior (65+).\n",
        "# Ask the user for their age\n",
        "age = int(input(\"Enter your age: \"))\n",
        "\n",
        "# Check the age category\n",
        "if age < 18:\n",
        "    print(\"You are a minor.\")\n",
        "elif age < 65:\n",
        "    print(\"You are an adult.\")\n",
        "else:\n",
        "    print(\"You are a senior.\")"
      ],
      "metadata": {
        "id": "LKtykWRSgyhW",
        "colab": {
          "base_uri": "https://localhost:8080/"
        },
        "outputId": "ed3f23c3-16b7-4fe7-9d1a-1cd4a54c2223"
      },
      "execution_count": 2,
      "outputs": [
        {
          "output_type": "stream",
          "name": "stdout",
          "text": [
            "Enter your age: 25\n",
            "You are an adult.\n"
          ]
        }
      ]
    },
    {
      "cell_type": "code",
      "source": [
        "#2. Create a program that takes a number as input and prints whether it's positive, negative, or zero.\n",
        "# Ask the user to enter a number\n",
        "number = float(input(\"Enter a number: \"))\n",
        "\n",
        "# Check if the number is positive, negative, or zero\n",
        "if number > 0:\n",
        "    print(\"The number is positive.\")\n",
        "elif number < 0:\n",
        "    print(\"The number is negative.\")\n",
        "else:\n",
        "    print(\"The number is zero.\")"
      ],
      "metadata": {
        "id": "PilTNQcXg8x1",
        "colab": {
          "base_uri": "https://localhost:8080/"
        },
        "outputId": "413528bb-c5f8-4f57-c03c-53f4da53e82c"
      },
      "execution_count": 3,
      "outputs": [
        {
          "output_type": "stream",
          "name": "stdout",
          "text": [
            "Enter a number: -1.25\n",
            "The number is negative.\n"
          ]
        }
      ]
    },
    {
      "cell_type": "code",
      "source": [
        "#3. Write a program that asks the user to guess a number between 1 and 10. The program should keep asking for a number until the user guesses the correct number (e.g., 7).\n",
        "# Set the correct number\n",
        "correct_number = 7\n",
        "\n",
        "# Loop until the user guesses correctly\n",
        "while True:\n",
        "    guess = int(input(\"Guess a number between 1 and 10: \"))\n",
        "\n",
        "    if guess == correct_number:\n",
        "        print(\"Correct! You guessed the number.\")\n",
        "        break\n",
        "    else:\n",
        "        print(\"Wrong guess. Try again.\")"
      ],
      "metadata": {
        "id": "MiWv6FX9hCFc",
        "colab": {
          "base_uri": "https://localhost:8080/"
        },
        "outputId": "03ff7faa-c712-4f79-8d70-f7fba2a2aaa3"
      },
      "execution_count": 4,
      "outputs": [
        {
          "output_type": "stream",
          "name": "stdout",
          "text": [
            "Guess a number between 1 and 10: 1\n",
            "Wrong guess. Try again.\n",
            "Guess a number between 1 and 10: 2\n",
            "Wrong guess. Try again.\n",
            "Guess a number between 1 and 10: 3\n",
            "Wrong guess. Try again.\n",
            "Guess a number between 1 and 10: 4\n",
            "Wrong guess. Try again.\n",
            "Guess a number between 1 and 10: 5\n",
            "Wrong guess. Try again.\n",
            "Guess a number between 1 and 10: 6\n",
            "Wrong guess. Try again.\n",
            "Guess a number between 1 and 10: 8\n",
            "Wrong guess. Try again.\n",
            "Guess a number between 1 and 10: 9\n",
            "Wrong guess. Try again.\n",
            "Guess a number between 1 and 10: 10\n",
            "Wrong guess. Try again.\n",
            "Guess a number between 1 and 10: 7\n",
            "Correct! You guessed the number.\n"
          ]
        }
      ]
    },
    {
      "cell_type": "code",
      "source": [
        "#4. Create a program that prints the numbers from 10 down to 1.\n",
        "# Print numbers from 10 down to 1\n",
        "for i in range(10, 0, -1):\n",
        "    print(i)"
      ],
      "metadata": {
        "id": "1ZkGiQWPhGkf",
        "colab": {
          "base_uri": "https://localhost:8080/"
        },
        "outputId": "48424a02-2f1c-4223-d8c1-8d1dd79757c4"
      },
      "execution_count": 5,
      "outputs": [
        {
          "output_type": "stream",
          "name": "stdout",
          "text": [
            "10\n",
            "9\n",
            "8\n",
            "7\n",
            "6\n",
            "5\n",
            "4\n",
            "3\n",
            "2\n",
            "1\n"
          ]
        }
      ]
    },
    {
      "cell_type": "code",
      "source": [
        "#5. Write a program that prints the square of each number from 1 to 10.\n",
        "# Print the square of each number from 1 to 10\n",
        "for number in range(1, 11):\n",
        "    print(f\"The square of {number} is {number ** 2}\")"
      ],
      "metadata": {
        "id": "sS5JGw6LhNzy",
        "colab": {
          "base_uri": "https://localhost:8080/"
        },
        "outputId": "da0d3968-4731-4654-c4cf-e64d18a49bc9"
      },
      "execution_count": 6,
      "outputs": [
        {
          "output_type": "stream",
          "name": "stdout",
          "text": [
            "The square of 1 is 1\n",
            "The square of 2 is 4\n",
            "The square of 3 is 9\n",
            "The square of 4 is 16\n",
            "The square of 5 is 25\n",
            "The square of 6 is 36\n",
            "The square of 7 is 49\n",
            "The square of 8 is 64\n",
            "The square of 9 is 81\n",
            "The square of 10 is 100\n"
          ]
        }
      ]
    },
    {
      "cell_type": "code",
      "source": [
        "#6. Create a program that finds the sum of all the even numbers between 1 and 100.\n",
        "# Initialize sum\n",
        "sum_even = 0\n",
        "\n",
        "# Loop through numbers from 1 to 100\n",
        "for number in range(1, 101):\n",
        "    if number % 2 == 0:\n",
        "        sum_even += number\n",
        "\n",
        "# Print the result\n",
        "print(\"The sum of all even numbers from 1 to 100 is:\", sum_even)"
      ],
      "metadata": {
        "id": "gqlgmEZphWGB",
        "colab": {
          "base_uri": "https://localhost:8080/"
        },
        "outputId": "81fe183b-4a3e-4e56-a51c-95cd727c5a98"
      },
      "execution_count": 7,
      "outputs": [
        {
          "output_type": "stream",
          "name": "stdout",
          "text": [
            "The sum of all even numbers from 1 to 100 is: 2550\n"
          ]
        }
      ]
    }
  ]
}